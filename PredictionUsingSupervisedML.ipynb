{
  "nbformat": 4,
  "nbformat_minor": 0,
  "metadata": {
    "colab": {
      "name": "PredictionUsingSupervisedML.ipynb",
      "provenance": []
    },
    "kernelspec": {
      "name": "python3",
      "display_name": "Python 3"
    }
  },
  "cells": [
    {
      "cell_type": "markdown",
      "metadata": {
        "id": "ugVD-Qa-KsPQ"
      },
      "source": [
        "***Author : Roshan Gowda***"
      ]
    },
    {
      "cell_type": "markdown",
      "metadata": {
        "id": "m3Wi7FY0UhEY"
      },
      "source": [
        "***Task 1 :Prediction using Supervised ML***"
      ]
    },
    {
      "cell_type": "markdown",
      "metadata": {
        "id": "ugdmJ8vkzHbw"
      },
      "source": [
        "#1.Importing relevent libraries\r\n",
        "\r\n",
        "\r\n",
        "\r\n"
      ]
    },
    {
      "cell_type": "code",
      "metadata": {
        "colab": {
          "base_uri": "https://localhost:8080/"
        },
        "id": "nAGC3fOwOgPb",
        "outputId": "e94f81e0-aa16-4417-e2ef-e26ff6bd9a6d"
      },
      "source": [
        "import numpy as np                        \r\n",
        "import pandas as pd\r\n",
        "import matplotlib.pyplot as plt\r\n",
        "import statsmodels.api as sm\r\n",
        "import seaborn as sns\r\n",
        "sns.set()\r\n",
        "print(\"you're good to go!!\")"
      ],
      "execution_count": 21,
      "outputs": [
        {
          "output_type": "stream",
          "text": [
            "you're good to go!!\n"
          ],
          "name": "stdout"
        }
      ]
    },
    {
      "cell_type": "markdown",
      "metadata": {
        "id": "A_HoHTqkYr7-"
      },
      "source": [
        "#2.reading the csv data from the link provided"
      ]
    },
    {
      "cell_type": "code",
      "metadata": {
        "colab": {
          "base_uri": "https://localhost:8080/"
        },
        "id": "lZPwb3HZOlo7",
        "outputId": "6feef0a1-f6a6-4dce-ee77-077b38cf3dde"
      },
      "source": [
        "data_link='http://bit.ly/w-data'         #that is the link where our data is\r\n",
        "my_data=pd.read_csv(data_link)           #reads the csv data file\r\n",
        "print('data imported successfully')"
      ],
      "execution_count": 22,
      "outputs": [
        {
          "output_type": "stream",
          "text": [
            "data imported successfully\n"
          ],
          "name": "stdout"
        }
      ]
    },
    {
      "cell_type": "markdown",
      "metadata": {
        "id": "Nh-QeqMQY1x-"
      },
      "source": [
        "#3.exploring the data\r\n",
        "\r\n"
      ]
    },
    {
      "cell_type": "code",
      "metadata": {
        "colab": {
          "base_uri": "https://localhost:8080/",
          "height": 198
        },
        "id": "ismzLvT8OoiX",
        "outputId": "0bf06523-9423-475d-9551-9dd8f4693086"
      },
      "source": [
        "my_data.head() #let's take a peek of how our data looks!"
      ],
      "execution_count": 23,
      "outputs": [
        {
          "output_type": "execute_result",
          "data": {
            "text/html": [
              "<div>\n",
              "<style scoped>\n",
              "    .dataframe tbody tr th:only-of-type {\n",
              "        vertical-align: middle;\n",
              "    }\n",
              "\n",
              "    .dataframe tbody tr th {\n",
              "        vertical-align: top;\n",
              "    }\n",
              "\n",
              "    .dataframe thead th {\n",
              "        text-align: right;\n",
              "    }\n",
              "</style>\n",
              "<table border=\"1\" class=\"dataframe\">\n",
              "  <thead>\n",
              "    <tr style=\"text-align: right;\">\n",
              "      <th></th>\n",
              "      <th>Hours</th>\n",
              "      <th>Scores</th>\n",
              "    </tr>\n",
              "  </thead>\n",
              "  <tbody>\n",
              "    <tr>\n",
              "      <th>0</th>\n",
              "      <td>2.5</td>\n",
              "      <td>21</td>\n",
              "    </tr>\n",
              "    <tr>\n",
              "      <th>1</th>\n",
              "      <td>5.1</td>\n",
              "      <td>47</td>\n",
              "    </tr>\n",
              "    <tr>\n",
              "      <th>2</th>\n",
              "      <td>3.2</td>\n",
              "      <td>27</td>\n",
              "    </tr>\n",
              "    <tr>\n",
              "      <th>3</th>\n",
              "      <td>8.5</td>\n",
              "      <td>75</td>\n",
              "    </tr>\n",
              "    <tr>\n",
              "      <th>4</th>\n",
              "      <td>3.5</td>\n",
              "      <td>30</td>\n",
              "    </tr>\n",
              "  </tbody>\n",
              "</table>\n",
              "</div>"
            ],
            "text/plain": [
              "   Hours  Scores\n",
              "0    2.5      21\n",
              "1    5.1      47\n",
              "2    3.2      27\n",
              "3    8.5      75\n",
              "4    3.5      30"
            ]
          },
          "metadata": {
            "tags": []
          },
          "execution_count": 23
        }
      ]
    },
    {
      "cell_type": "code",
      "metadata": {
        "colab": {
          "base_uri": "https://localhost:8080/"
        },
        "id": "usHCUsRlO3hv",
        "outputId": "78646a76-f3af-4db7-96b1-83f1cad12ef3"
      },
      "source": [
        "my_data.info() #gives information of no.of rows and columns , null or missing values"
      ],
      "execution_count": 24,
      "outputs": [
        {
          "output_type": "stream",
          "text": [
            "<class 'pandas.core.frame.DataFrame'>\n",
            "RangeIndex: 25 entries, 0 to 24\n",
            "Data columns (total 2 columns):\n",
            " #   Column  Non-Null Count  Dtype  \n",
            "---  ------  --------------  -----  \n",
            " 0   Hours   25 non-null     float64\n",
            " 1   Scores  25 non-null     int64  \n",
            "dtypes: float64(1), int64(1)\n",
            "memory usage: 528.0 bytes\n"
          ],
          "name": "stdout"
        }
      ]
    },
    {
      "cell_type": "markdown",
      "metadata": {
        "id": "EutXFdSoiNXM"
      },
      "source": [
        "#4.visualize the data "
      ]
    },
    {
      "cell_type": "code",
      "metadata": {
        "colab": {
          "base_uri": "https://localhost:8080/",
          "height": 301
        },
        "id": "MfVH7t_YPF63",
        "outputId": "973db63e-9c5a-47ba-d29c-336c05ef6441"
      },
      "source": [
        "plt.scatter(my_data['Hours'],my_data['Scores'],c='r') #lets do a scatter plot\r\n",
        "plt.title(\"score prediction using study hours\")       #gives the title to the chart\r\n",
        "plt.xlabel('hours of study')                          #gives the title to x-axis\r\n",
        "plt.ylabel('score')                                   #gives the title to y-axis\r\n",
        "plt.show()                                            #prints the plotted graph"
      ],
      "execution_count": 25,
      "outputs": [
        {
          "output_type": "display_data",
          "data": {
            "image/png": "[encoded data removed]",
            "text/plain": [
              "<Figure size 432x288 with 1 Axes>"
            ]
          },
          "metadata": {
            "tags": []
          }
        }
      ]
    },
    {
      "cell_type": "markdown",
      "metadata": {
        "id": "mgeUulaQijik"
      },
      "source": [
        "#5.Preparing the data for prediction(separating input and output values)"
      ]
    },
    {
      "cell_type": "code",
      "metadata": {
        "id": "-Nawg76fDOV3"
      },
      "source": [
        "x = my_data.iloc[:, :-1].values  #x stores the independent variable i.e., no.of hours\r\n",
        "y = my_data.iloc[:, 1].values    #y stores the dependent variable i.e., score"
      ],
      "execution_count": 26,
      "outputs": []
    },
    {
      "cell_type": "markdown",
      "metadata": {
        "id": "zqTHzPi0is8C"
      },
      "source": [
        "#6.spilting the data into test and training sets"
      ]
    },
    {
      "cell_type": "code",
      "metadata": {
        "colab": {
          "base_uri": "https://localhost:8080/"
        },
        "id": "ChWG5080SbRn",
        "outputId": "e3341717-5992-4eef-c5b7-5fb0e0c10be2"
      },
      "source": [
        "from sklearn.model_selection import train_test_split # it's essential to spilt your data into train and test for more accurate predictions\r\n",
        "train_x,test_x,train_y,test_y=train_test_split(x,y,random_state=6)\r\n",
        "print(\"data split into training and test data successfully\")"
      ],
      "execution_count": 27,
      "outputs": [
        {
          "output_type": "stream",
          "text": [
            "data split into training and test data successfully\n"
          ],
          "name": "stdout"
        }
      ]
    },
    {
      "cell_type": "markdown",
      "metadata": {
        "id": "lTXgcp_MjNXM"
      },
      "source": [
        "#7.choosing the linear regression model and training the model with the training data set"
      ]
    },
    {
      "cell_type": "code",
      "metadata": {
        "colab": {
          "base_uri": "https://localhost:8080/"
        },
        "id": "Y_sqsjj9SewY",
        "outputId": "9a150cd2-3363-45b8-91c8-28e8ff2cc326"
      },
      "source": [
        "from sklearn.linear_model import LinearRegression\r\n",
        "my_model=LinearRegression()                          #choosing linear regressor as our model\r\n",
        "my_model.fit(train_x,train_y)                        #let's train the model by providing the training data\r\n",
        "print('training complete')"
      ],
      "execution_count": 28,
      "outputs": [
        {
          "output_type": "stream",
          "text": [
            "training complete\n"
          ],
          "name": "stdout"
        }
      ]
    },
    {
      "cell_type": "markdown",
      "metadata": {
        "id": "iADh7aOjlNvB"
      },
      "source": [
        "#8.plotting the regression line\r\n"
      ]
    },
    {
      "cell_type": "code",
      "metadata": {
        "colab": {
          "base_uri": "https://localhost:8080/",
          "height": 306
        },
        "id": "yi2MVVBTSoeW",
        "outputId": "4f80adf9-ed94-4a15-9a24-a9f8aa4b2755"
      },
      "source": [
        "rline=my_model.coef_*x+my_model.intercept_           #linear regression line formula \r\n",
        "plt.scatter(x,y,c='red')                             #it's good to have the earlier plotted scatter graph in place\r\n",
        "plt.title('Regression line graph ',fontsize='20')    #gives the title to the chart\r\n",
        "plt.xlabel('hours of study')                         \r\n",
        "plt.ylabel('score')\r\n",
        "plt.plot(x,rline)                                    #adds the linear regression line on top of the scatter plot\r\n",
        "plt.show()"
      ],
      "execution_count": 29,
      "outputs": [
        {
          "output_type": "display_data",
          "data": {
            "image/png": "[encoded data removed]",
            "text/plain": [
              "<Figure size 432x288 with 1 Axes>"
            ]
          },
          "metadata": {
            "tags": []
          }
        }
      ]
    },
    {
      "cell_type": "markdown",
      "metadata": {
        "id": "oUBi9Uu1jlTV"
      },
      "source": [
        "# 9.making prediction using the testing data set"
      ]
    },
    {
      "cell_type": "code",
      "metadata": {
        "colab": {
          "base_uri": "https://localhost:8080/",
          "height": 258
        },
        "id": "l7uq3vxBTDIY",
        "outputId": "6d579377-a852-4d1a-fcc1-7ceba6439f46"
      },
      "source": [
        "my_prediction=my_model.predict(test_x)                    #we're set to make our predictions\r\n",
        "result=pd.DataFrame({'my_predictions':my_prediction})     #converts the predicted array into a pandas data frame\r\n",
        "result"
      ],
      "execution_count": 30,
      "outputs": [
        {
          "output_type": "execute_result",
          "data": {
            "text/html": [
              "<div>\n",
              "<style scoped>\n",
              "    .dataframe tbody tr th:only-of-type {\n",
              "        vertical-align: middle;\n",
              "    }\n",
              "\n",
              "    .dataframe tbody tr th {\n",
              "        vertical-align: top;\n",
              "    }\n",
              "\n",
              "    .dataframe thead th {\n",
              "        text-align: right;\n",
              "    }\n",
              "</style>\n",
              "<table border=\"1\" class=\"dataframe\">\n",
              "  <thead>\n",
              "    <tr style=\"text-align: right;\">\n",
              "      <th></th>\n",
              "      <th>my_predictions</th>\n",
              "    </tr>\n",
              "  </thead>\n",
              "  <tbody>\n",
              "    <tr>\n",
              "      <th>0</th>\n",
              "      <td>40.599597</td>\n",
              "    </tr>\n",
              "    <tr>\n",
              "      <th>1</th>\n",
              "      <td>57.243804</td>\n",
              "    </tr>\n",
              "    <tr>\n",
              "      <th>2</th>\n",
              "      <td>18.080965</td>\n",
              "    </tr>\n",
              "    <tr>\n",
              "      <th>3</th>\n",
              "      <td>93.469429</td>\n",
              "    </tr>\n",
              "    <tr>\n",
              "      <th>4</th>\n",
              "      <td>84.657790</td>\n",
              "    </tr>\n",
              "    <tr>\n",
              "      <th>5</th>\n",
              "      <td>34.725172</td>\n",
              "    </tr>\n",
              "    <tr>\n",
              "      <th>6</th>\n",
              "      <td>27.871675</td>\n",
              "    </tr>\n",
              "  </tbody>\n",
              "</table>\n",
              "</div>"
            ],
            "text/plain": [
              "   my_predictions\n",
              "0       40.599597\n",
              "1       57.243804\n",
              "2       18.080965\n",
              "3       93.469429\n",
              "4       84.657790\n",
              "5       34.725172\n",
              "6       27.871675"
            ]
          },
          "metadata": {
            "tags": []
          },
          "execution_count": 30
        }
      ]
    },
    {
      "cell_type": "markdown",
      "metadata": {
        "id": "OgpiryXxnMny"
      },
      "source": [
        "#10.Model Validation"
      ]
    },
    {
      "cell_type": "markdown",
      "metadata": {
        "id": "ibky74NSnWAv"
      },
      "source": [
        "comparing actual values to the predicted values"
      ]
    },
    {
      "cell_type": "code",
      "metadata": {
        "colab": {
          "base_uri": "https://localhost:8080/",
          "height": 258
        },
        "id": "-VcaRQSbTpoj",
        "outputId": "0a6d404f-4277-4db8-9fa2-b37606daabfe"
      },
      "source": [
        "compare=pd.DataFrame({'Actaul values':test_y,'Predicted values':my_prediction}) #let us look how good our model performed by comparing\r\n",
        "compare   "
      ],
      "execution_count": 31,
      "outputs": [
        {
          "output_type": "execute_result",
          "data": {
            "text/html": [
              "<div>\n",
              "<style scoped>\n",
              "    .dataframe tbody tr th:only-of-type {\n",
              "        vertical-align: middle;\n",
              "    }\n",
              "\n",
              "    .dataframe tbody tr th {\n",
              "        vertical-align: top;\n",
              "    }\n",
              "\n",
              "    .dataframe thead th {\n",
              "        text-align: right;\n",
              "    }\n",
              "</style>\n",
              "<table border=\"1\" class=\"dataframe\">\n",
              "  <thead>\n",
              "    <tr style=\"text-align: right;\">\n",
              "      <th></th>\n",
              "      <th>Actaul values</th>\n",
              "      <th>Predicted values</th>\n",
              "    </tr>\n",
              "  </thead>\n",
              "  <tbody>\n",
              "    <tr>\n",
              "      <th>0</th>\n",
              "      <td>35</td>\n",
              "      <td>40.599597</td>\n",
              "    </tr>\n",
              "    <tr>\n",
              "      <th>1</th>\n",
              "      <td>60</td>\n",
              "      <td>57.243804</td>\n",
              "    </tr>\n",
              "    <tr>\n",
              "      <th>2</th>\n",
              "      <td>20</td>\n",
              "      <td>18.080965</td>\n",
              "    </tr>\n",
              "    <tr>\n",
              "      <th>3</th>\n",
              "      <td>88</td>\n",
              "      <td>93.469429</td>\n",
              "    </tr>\n",
              "    <tr>\n",
              "      <th>4</th>\n",
              "      <td>81</td>\n",
              "      <td>84.657790</td>\n",
              "    </tr>\n",
              "    <tr>\n",
              "      <th>5</th>\n",
              "      <td>27</td>\n",
              "      <td>34.725172</td>\n",
              "    </tr>\n",
              "    <tr>\n",
              "      <th>6</th>\n",
              "      <td>21</td>\n",
              "      <td>27.871675</td>\n",
              "    </tr>\n",
              "  </tbody>\n",
              "</table>\n",
              "</div>"
            ],
            "text/plain": [
              "   Actaul values  Predicted values\n",
              "0             35         40.599597\n",
              "1             60         57.243804\n",
              "2             20         18.080965\n",
              "3             88         93.469429\n",
              "4             81         84.657790\n",
              "5             27         34.725172\n",
              "6             21         27.871675"
            ]
          },
          "metadata": {
            "tags": []
          },
          "execution_count": 31
        }
      ]
    },
    {
      "cell_type": "markdown",
      "metadata": {
        "id": "GnfHUOVjlE-D"
      },
      "source": [
        "calcualte the mean absolute error and the accuracy of the model"
      ]
    },
    {
      "cell_type": "code",
      "metadata": {
        "colab": {
          "base_uri": "https://localhost:8080/"
        },
        "id": "iurKbNVPTsGp",
        "outputId": "19002f5a-d73a-48f9-dbbb-7ebf11571b54"
      },
      "source": [
        "from sklearn import metrics                                                     #now validating the model score and the model accuracy\r\n",
        "score=metrics.r2_score(test_y,my_prediction)\r\n",
        "error=metrics.mean_absolute_error(test_y,my_prediction)\r\n",
        "print('{:.2f}% is the accuracy score of the model\\n{:.3f} is the mean absolute error'.format((score*100),error))"
      ],
      "execution_count": 32,
      "outputs": [
        {
          "output_type": "stream",
          "text": [
            "96.11% is the accuracy score of the model\n",
            "4.857 is the mean absolute error\n"
          ],
          "name": "stdout"
        }
      ]
    }
  ]
}